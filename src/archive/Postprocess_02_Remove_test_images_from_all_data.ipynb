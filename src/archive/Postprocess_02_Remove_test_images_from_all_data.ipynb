{
 "cells": [
  {
   "cell_type": "markdown",
   "id": "dee78e47",
   "metadata": {},
   "source": [
    "# Remove test images from folder with all data\n",
    "\n",
    "This code removes the test images present in a folder, from a second folder that includes all data. This is helpful in cases where the complete dataset gets extended, for instance in the case of the plankton imager."
   ]
  },
  {
   "cell_type": "code",
   "execution_count": 1,
   "id": "a12277e7",
   "metadata": {},
   "outputs": [],
   "source": [
    "import os\n",
    "import shutil"
   ]
  },
  {
   "cell_type": "code",
   "execution_count": null,
   "id": "1e5ee47f",
   "metadata": {},
   "outputs": [],
   "source": [
    "# Define the paths to the two folders\n",
    "folder_test = \"data/test\"\n",
    "folder_all_data = \"data/WMR_PI10_learning_set_v4\""
   ]
  },
  {
   "cell_type": "code",
   "execution_count": null,
   "id": "fd64ddef",
   "metadata": {},
   "outputs": [],
   "source": [
    "# Create a set to store the relative paths of images in folder_test\n",
    "test_images = set()\n",
    "\n",
    "# Traverse through all subdirectories in folder_test\n",
    "for root, _, files in os.walk(folder_test):\n",
    "    for file in files:\n",
    "        if file.endswith(('.png', '.jpg', '.jpeg', '.bmp', '.gif', '.tiff', '.tif')):  # Add other extensions if needed\n",
    "            # Store relative path of each image\n",
    "            rel_path = os.path.relpath(os.path.join(root, file), folder_test)\n",
    "            test_images.add(rel_path)\n",
    "\n",
    "# Initialize a counter for the number of removed images\n",
    "removed_images_count = 0\n",
    "\n",
    "# Traverse through all subdirectories in folder_all_data\n",
    "for root, _, files in os.walk(folder_all_data):\n",
    "    for file in files:\n",
    "        if file.endswith(('.png', '.jpg', '.jpeg', '.bmp', '.gif', '.tiff', '.tif')):  # Add other extensions if needed\n",
    "            # Calculate the relative path of the image\n",
    "            rel_path = os.path.relpath(os.path.join(root, file), folder_all_data)\n",
    "            # If the image is present in folder_test, remove it from folder_all_data\n",
    "            if rel_path in test_images:\n",
    "                os.remove(os.path.join(root, file))\n",
    "                removed_images_count += 1\n",
    "\n",
    "# Print the total number of removed images\n",
    "print(f\"Total number of images removed: {removed_images_count}\")\n"
   ]
  }
 ],
 "metadata": {
  "kernelspec": {
   "display_name": "Jupy_Env",
   "language": "python",
   "name": "jupy_env"
  },
  "language_info": {
   "codemirror_mode": {
    "name": "ipython",
    "version": 3
   },
   "file_extension": ".py",
   "mimetype": "text/x-python",
   "name": "python",
   "nbconvert_exporter": "python",
   "pygments_lexer": "ipython3",
   "version": "3.10.12"
  }
 },
 "nbformat": 4,
 "nbformat_minor": 5
}
