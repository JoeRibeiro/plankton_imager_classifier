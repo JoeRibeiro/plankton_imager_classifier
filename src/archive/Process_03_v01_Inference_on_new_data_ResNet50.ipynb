{
 "cells": [
  {
   "cell_type": "markdown",
   "id": "02a36868",
   "metadata": {},
   "source": [
    "# Plankton Identifier - Classification from plankton imager"
   ]
  },
  {
   "cell_type": "markdown",
   "id": "bac7cf16",
   "metadata": {},
   "source": [
    "This notebook provides code to run a CNN to classify plankton from images from the plankton imager. It treats this problem as a classification task. The labels are extracted from the folder names. It makes predictions (i.e., inference) on unseen images, and stores the predictions in a csv file for every subfolder."
   ]
  },
  {
   "cell_type": "markdown",
   "id": "6d3810cf",
   "metadata": {},
   "source": [
    "## Import modules and set parameters"
   ]
  },
  {
   "cell_type": "code",
   "execution_count": 1,
   "id": "b9df2804",
   "metadata": {},
   "outputs": [
    {
     "name": "stdout",
     "output_type": "stream",
     "text": [
      "You are using FastAI version: 2.7.13\n"
     ]
    }
   ],
   "source": [
    "# Import necessary libraries\n",
    "import fastai\n",
    "from fastai.vision.all import *\n",
    "print ('You are using FastAI version: ' + fastai.__version__)\n",
    "# FastAI version in counting paper: 2.0.13"
   ]
  },
  {
   "cell_type": "code",
   "execution_count": 2,
   "id": "6b8f5500",
   "metadata": {},
   "outputs": [],
   "source": [
    "filename = 'Plankton_imager_02_v03c' # Insert your filename, for repeated experiments with different trainings hyperparameters (see below)\n",
    "bs = 600 # Insert highest working batchsize here (limited by hardware)\n",
    "np.random.seed(3)"
   ]
  },
  {
   "cell_type": "markdown",
   "id": "66fccf2f",
   "metadata": {},
   "source": [
    "NOTE TO SELF:\n",
    "\n",
    "When a class n=1, it gives an error when it ends up in the validation set (and not in the training set). Easy work around is to reset random seed, and hope it ends up in the training set this time."
   ]
  },
  {
   "cell_type": "markdown",
   "id": "3fd9a064",
   "metadata": {},
   "source": [
    "Nb: bs = 20 gave a usage of 2421MiB on the GPU (A100)"
   ]
  },
  {
   "cell_type": "markdown",
   "id": "c1bde38c",
   "metadata": {},
   "source": [
    "## Getting the data"
   ]
  },
  {
   "cell_type": "code",
   "execution_count": 3,
   "id": "e8cb0ec1",
   "metadata": {},
   "outputs": [
    {
     "data": {
      "text/plain": [
       "(#67) [Path('data/train_WMR_PI10_learning_set_v4/cnidaria_ephyrae'),Path('data/train_WMR_PI10_learning_set_v4/larvacea_tail_only'),Path('data/train_WMR_PI10_learning_set_v4/larvacea_Oikopleura_complete'),Path('data/train_WMR_PI10_learning_set_v4/crustacea_megalopa'),Path('data/train_WMR_PI10_learning_set_v4/larvacea_Friitilaria_complete'),Path('data/train_WMR_PI10_learning_set_v4/copepoda_nauplii'),Path('data/train_WMR_PI10_learning_set_v4/echinoderm_stars_echino'),Path('data/train_WMR_PI10_learning_set_v4/copepoda_monstrilloidae'),Path('data/train_WMR_PI10_learning_set_v4/balanoid_nauplius'),Path('data/train_WMR_PI10_learning_set_v4/crustacea_exuvium')...]"
      ]
     },
     "execution_count": 3,
     "metadata": {},
     "output_type": "execute_result"
    }
   ],
   "source": [
    "# Get image paths\n",
    "path = Path('data/train_WMR_PI10_learning_set_v4');\n",
    "path.ls()"
   ]
  },
  {
   "cell_type": "code",
   "execution_count": 4,
   "id": "bd449f15",
   "metadata": {},
   "outputs": [
    {
     "data": {
      "text/plain": [
       "(#3) [Path('data/train_WMR_PI10_learning_set_v4/cnidaria_ephyrae/pia7.2024-01-29.1350+N00029030.tif'),Path('data/train_WMR_PI10_learning_set_v4/cnidaria_ephyrae/pia7.2024-01-11.1820+N00018671.tif'),Path('data/train_WMR_PI10_learning_set_v4/cnidaria_ephyrae/pia7.2024-01-11.0300+N00035250.tif')]"
      ]
     },
     "execution_count": 4,
     "metadata": {},
     "output_type": "execute_result"
    }
   ],
   "source": [
    "fnames = get_image_files(path)\n",
    "fnames[:3]"
   ]
  },
  {
   "cell_type": "markdown",
   "id": "04e2069e",
   "metadata": {},
   "source": [
    "## Creating a dataset"
   ]
  },
  {
   "cell_type": "code",
   "execution_count": 5,
   "id": "e8d04556",
   "metadata": {},
   "outputs": [],
   "source": [
    "# Create dataset\n",
    "\n",
    "block = DataBlock(blocks=(ImageBlock, CategoryBlock), # for regression, change this CategoryBlock\n",
    "                  splitter=RandomSplitter(),\n",
    "                  get_items = get_image_files, \n",
    "                  get_y = parent_label,\n",
    "                  #item_tfms=Resize((770,1040), method='squish'), \n",
    "                  item_tfms=Resize(300, ResizeMethod.Pad, pad_mode='zeros'), # see page 73 book\n",
    "                  batch_tfms=[*aug_transforms( #https://docs.fast.ai/vision.augment#aug_transforms\n",
    "                      mult=1.0, \n",
    "                      do_flip=True,\n",
    "                      flip_vert=True,\n",
    "                      max_rotate=0.2,\n",
    "                      min_zoom=1.0,\n",
    "                      max_zoom=1.1,\n",
    "                      max_lighting=0.3,\n",
    "                      max_warp=0.1,\n",
    "                      p_affine=0.5,\n",
    "                      p_lighting=0.5,\n",
    "                      pad_mode='zeros'), \n",
    "                              Normalize.from_stats(*imagenet_stats)] \n",
    "                 )"
   ]
  },
  {
   "cell_type": "code",
   "execution_count": 6,
   "id": "52ed2fa6",
   "metadata": {},
   "outputs": [],
   "source": [
    "#dls = block.dataloaders(df,bs=bs)\n",
    "dls = block.dataloaders(path, bs=bs)"
   ]
  },
  {
   "cell_type": "markdown",
   "id": "6c44642a",
   "metadata": {},
   "source": [
    "## Define model"
   ]
  },
  {
   "cell_type": "code",
   "execution_count": 7,
   "id": "b0d125ee",
   "metadata": {},
   "outputs": [
    {
     "name": "stdout",
     "output_type": "stream",
     "text": [
      "This is Plankton Identifier version: Plankton_imager_02_v03c\n",
      "The batchsize is set at: 600\n",
      "The loss function is: FlattenedLoss of CrossEntropyLoss()\n"
     ]
    }
   ],
   "source": [
    "# met metrics\n",
    "\n",
    "\n",
    "# Create Learner\n",
    "learn = vision_learner(dls, resnet50, #loss_func=Huber(), # different ResNets and Loss functions can be specified here\n",
    "                    metrics=error_rate\n",
    "                   ); # creates pretrained model\n",
    "learn.model = torch.nn.DataParallel(learn.model) # Parallels computations over multiplle GPUs\n",
    "\n",
    "print('This is Plankton Identifier version: ' + filename) # See top\n",
    "print('The batchsize is set at:', bs) # See top\n",
    "print('The loss function is:', learn.loss_func) # Double check current loss func"
   ]
  },
  {
   "cell_type": "code",
   "execution_count": 8,
   "id": "9abfa579",
   "metadata": {},
   "outputs": [
    {
     "data": {
      "text/plain": [
       "<fastai.learner.Learner at 0x15220a0cb850>"
      ]
     },
     "execution_count": 8,
     "metadata": {},
     "output_type": "execute_result"
    }
   ],
   "source": [
    "learn.load('Plankton_imager_02_v03_stage-2_Best')"
   ]
  },
  {
   "cell_type": "markdown",
   "id": "c0435cd0",
   "metadata": {},
   "source": [
    "# Inference"
   ]
  },
  {
   "cell_type": "markdown",
   "id": "94d4f33f",
   "metadata": {},
   "source": [
    "### Set up images for predictions"
   ]
  },
  {
   "cell_type": "code",
   "execution_count": 9,
   "id": "f84d0386",
   "metadata": {},
   "outputs": [],
   "source": [
    "# Path towards images\n",
    "PathImgs = Path('../Project003a_Plankton_imager/data_tar'); # "
   ]
  },
  {
   "cell_type": "code",
   "execution_count": 10,
   "id": "50897b06",
   "metadata": {},
   "outputs": [
    {
     "name": "stdout",
     "output_type": "stream",
     "text": [
      "Started processing: ../Project003a_Plankton_imager/data_tar/2023-06-06\n",
      "8208497 images in 2023-06-06\n",
      "Path first image: ../Project003a_Plankton_imager/data_tar/2023-06-06/Background.tif\n",
      "Path last image: ../Project003a_Plankton_imager/data_tar/2023-06-06/untarred_1720/RawImages/pia6.2023-06-06.1720+N00052811.tif\n"
     ]
    },
    {
     "data": {
      "text/html": [
       "\n",
       "<style>\n",
       "    /* Turns off some styling */\n",
       "    progress {\n",
       "        /* gets rid of default border in Firefox and Opera. */\n",
       "        border: none;\n",
       "        /* Needs to be in here for Safari polyfill so background images work as expected. */\n",
       "        background-size: auto;\n",
       "    }\n",
       "    progress:not([value]), progress:not([value])::-webkit-progress-bar {\n",
       "        background: repeating-linear-gradient(45deg, #7e7e7e, #7e7e7e 10px, #5c5c5c 10px, #5c5c5c 20px);\n",
       "    }\n",
       "    .progress-bar-interrupted, .progress-bar-interrupted::-webkit-progress-bar {\n",
       "        background: #F44336;\n",
       "    }\n",
       "</style>\n"
      ],
      "text/plain": [
       "<IPython.core.display.HTML object>"
      ]
     },
     "metadata": {},
     "output_type": "display_data"
    },
    {
     "data": {
      "text/html": [],
      "text/plain": [
       "<IPython.core.display.HTML object>"
      ]
     },
     "metadata": {},
     "output_type": "display_data"
    },
    {
     "name": "stdout",
     "output_type": "stream",
     "text": [
      "Made preds\n",
      "Created df\n",
      "Added preds to df\n",
      "Finished processing: ../Project003a_Plankton_imager/data_tar/2023-06-06\n",
      "=================================================\n",
      "Started processing: ../Project003a_Plankton_imager/data_tar/2023-06-05\n",
      "4375702 images in 2023-06-05\n",
      "Path first image: ../Project003a_Plankton_imager/data_tar/2023-06-05/untarred_1004/RawImages/pia6.2023-06-05.1004+N00021501.tif\n",
      "Path last image: ../Project003a_Plankton_imager/data_tar/2023-06-05/untarred_1720/RawImages/pia6.2023-06-05.1720+N00043499.tif\n"
     ]
    },
    {
     "data": {
      "text/html": [
       "\n",
       "<style>\n",
       "    /* Turns off some styling */\n",
       "    progress {\n",
       "        /* gets rid of default border in Firefox and Opera. */\n",
       "        border: none;\n",
       "        /* Needs to be in here for Safari polyfill so background images work as expected. */\n",
       "        background-size: auto;\n",
       "    }\n",
       "    progress:not([value]), progress:not([value])::-webkit-progress-bar {\n",
       "        background: repeating-linear-gradient(45deg, #7e7e7e, #7e7e7e 10px, #5c5c5c 10px, #5c5c5c 20px);\n",
       "    }\n",
       "    .progress-bar-interrupted, .progress-bar-interrupted::-webkit-progress-bar {\n",
       "        background: #F44336;\n",
       "    }\n",
       "</style>\n"
      ],
      "text/plain": [
       "<IPython.core.display.HTML object>"
      ]
     },
     "metadata": {},
     "output_type": "display_data"
    },
    {
     "data": {
      "text/html": [],
      "text/plain": [
       "<IPython.core.display.HTML object>"
      ]
     },
     "metadata": {},
     "output_type": "display_data"
    },
    {
     "name": "stdout",
     "output_type": "stream",
     "text": [
      "Made preds\n",
      "Created df\n",
      "Added preds to df\n",
      "Finished processing: ../Project003a_Plankton_imager/data_tar/2023-06-05\n",
      "=================================================\n",
      "Started processing: ../Project003a_Plankton_imager/data_tar/2023-05-31\n",
      "7498508 images in 2023-05-31\n",
      "Path first image: ../Project003a_Plankton_imager/data_tar/2023-05-31/untarred_0346/RawImages/pia6.2023-05-31.0346+N00006160.tif\n",
      "Path last image: ../Project003a_Plankton_imager/data_tar/2023-05-31/untarred_1820/Background.tif\n"
     ]
    },
    {
     "data": {
      "text/html": [
       "\n",
       "<style>\n",
       "    /* Turns off some styling */\n",
       "    progress {\n",
       "        /* gets rid of default border in Firefox and Opera. */\n",
       "        border: none;\n",
       "        /* Needs to be in here for Safari polyfill so background images work as expected. */\n",
       "        background-size: auto;\n",
       "    }\n",
       "    progress:not([value]), progress:not([value])::-webkit-progress-bar {\n",
       "        background: repeating-linear-gradient(45deg, #7e7e7e, #7e7e7e 10px, #5c5c5c 10px, #5c5c5c 20px);\n",
       "    }\n",
       "    .progress-bar-interrupted, .progress-bar-interrupted::-webkit-progress-bar {\n",
       "        background: #F44336;\n",
       "    }\n",
       "</style>\n"
      ],
      "text/plain": [
       "<IPython.core.display.HTML object>"
      ]
     },
     "metadata": {},
     "output_type": "display_data"
    },
    {
     "data": {
      "text/html": [],
      "text/plain": [
       "<IPython.core.display.HTML object>"
      ]
     },
     "metadata": {},
     "output_type": "display_data"
    },
    {
     "name": "stdout",
     "output_type": "stream",
     "text": [
      "Made preds\n",
      "Created df\n",
      "Added preds to df\n",
      "Finished processing: ../Project003a_Plankton_imager/data_tar/2023-05-31\n",
      "=================================================\n",
      "Started processing: ../Project003a_Plankton_imager/data_tar/.ipynb_checkpoints\n",
      "No images found in ../Project003a_Plankton_imager/data_tar/.ipynb_checkpoints\n",
      "=================================================\n",
      "Started processing: ../Project003a_Plankton_imager/data_tar/2023-06-12\n",
      "222789 images in 2023-06-12\n",
      "Path first image: ../Project003a_Plankton_imager/data_tar/2023-06-12/untarred_1130/RawImages/pia6.2023-06-12.1130+N00063004.tif\n",
      "Path last image: ../Project003a_Plankton_imager/data_tar/2023-06-12/untarred_1330/RawImages/pia6.2023-06-12.1330+N00011330.tif\n"
     ]
    },
    {
     "data": {
      "text/html": [
       "\n",
       "<style>\n",
       "    /* Turns off some styling */\n",
       "    progress {\n",
       "        /* gets rid of default border in Firefox and Opera. */\n",
       "        border: none;\n",
       "        /* Needs to be in here for Safari polyfill so background images work as expected. */\n",
       "        background-size: auto;\n",
       "    }\n",
       "    progress:not([value]), progress:not([value])::-webkit-progress-bar {\n",
       "        background: repeating-linear-gradient(45deg, #7e7e7e, #7e7e7e 10px, #5c5c5c 10px, #5c5c5c 20px);\n",
       "    }\n",
       "    .progress-bar-interrupted, .progress-bar-interrupted::-webkit-progress-bar {\n",
       "        background: #F44336;\n",
       "    }\n",
       "</style>\n"
      ],
      "text/plain": [
       "<IPython.core.display.HTML object>"
      ]
     },
     "metadata": {},
     "output_type": "display_data"
    },
    {
     "data": {
      "text/html": [],
      "text/plain": [
       "<IPython.core.display.HTML object>"
      ]
     },
     "metadata": {},
     "output_type": "display_data"
    },
    {
     "name": "stdout",
     "output_type": "stream",
     "text": [
      "Made preds\n",
      "Created df\n",
      "Added preds to df\n",
      "Finished processing: ../Project003a_Plankton_imager/data_tar/2023-06-12\n",
      "=================================================\n",
      "Started processing: ../Project003a_Plankton_imager/data_tar/2023-06-13\n",
      "7654596 images in 2023-06-13\n",
      "Path first image: ../Project003a_Plankton_imager/data_tar/2023-06-13/untarred_0350/RawImages/pia6.2023-06-13.0350+N00029000.tif\n",
      "Path last image: ../Project003a_Plankton_imager/data_tar/2023-06-13/untarred_1630/RawImages/pia6.2023-06-13.1630+N00092459.tif\n"
     ]
    },
    {
     "data": {
      "text/html": [
       "\n",
       "<style>\n",
       "    /* Turns off some styling */\n",
       "    progress {\n",
       "        /* gets rid of default border in Firefox and Opera. */\n",
       "        border: none;\n",
       "        /* Needs to be in here for Safari polyfill so background images work as expected. */\n",
       "        background-size: auto;\n",
       "    }\n",
       "    progress:not([value]), progress:not([value])::-webkit-progress-bar {\n",
       "        background: repeating-linear-gradient(45deg, #7e7e7e, #7e7e7e 10px, #5c5c5c 10px, #5c5c5c 20px);\n",
       "    }\n",
       "    .progress-bar-interrupted, .progress-bar-interrupted::-webkit-progress-bar {\n",
       "        background: #F44336;\n",
       "    }\n",
       "</style>\n"
      ],
      "text/plain": [
       "<IPython.core.display.HTML object>"
      ]
     },
     "metadata": {},
     "output_type": "display_data"
    },
    {
     "data": {
      "text/html": [],
      "text/plain": [
       "<IPython.core.display.HTML object>"
      ]
     },
     "metadata": {},
     "output_type": "display_data"
    },
    {
     "name": "stdout",
     "output_type": "stream",
     "text": [
      "Made preds\n",
      "Created df\n",
      "Added preds to df\n",
      "Finished processing: ../Project003a_Plankton_imager/data_tar/2023-06-13\n",
      "=================================================\n",
      "Started processing: ../Project003a_Plankton_imager/data_tar/2023-06-08\n",
      "11684096 images in 2023-06-08\n",
      "Path first image: ../Project003a_Plankton_imager/data_tar/2023-06-08/untarred_0352/RawImages/pia6.2023-06-08.0352+N00014168.tif\n",
      "Path last image: ../Project003a_Plankton_imager/data_tar/2023-06-08/untarred_2350/RawImages/pia6.2023-06-08.2350+N00099999.tif\n"
     ]
    },
    {
     "data": {
      "text/html": [
       "\n",
       "<style>\n",
       "    /* Turns off some styling */\n",
       "    progress {\n",
       "        /* gets rid of default border in Firefox and Opera. */\n",
       "        border: none;\n",
       "        /* Needs to be in here for Safari polyfill so background images work as expected. */\n",
       "        background-size: auto;\n",
       "    }\n",
       "    progress:not([value]), progress:not([value])::-webkit-progress-bar {\n",
       "        background: repeating-linear-gradient(45deg, #7e7e7e, #7e7e7e 10px, #5c5c5c 10px, #5c5c5c 20px);\n",
       "    }\n",
       "    .progress-bar-interrupted, .progress-bar-interrupted::-webkit-progress-bar {\n",
       "        background: #F44336;\n",
       "    }\n",
       "</style>\n"
      ],
      "text/plain": [
       "<IPython.core.display.HTML object>"
      ]
     },
     "metadata": {},
     "output_type": "display_data"
    },
    {
     "data": {
      "text/html": [],
      "text/plain": [
       "<IPython.core.display.HTML object>"
      ]
     },
     "metadata": {},
     "output_type": "display_data"
    },
    {
     "name": "stdout",
     "output_type": "stream",
     "text": [
      "Made preds\n",
      "Created df\n",
      "Added preds to df\n",
      "Finished processing: ../Project003a_Plankton_imager/data_tar/2023-06-08\n",
      "=================================================\n",
      "Started processing: ../Project003a_Plankton_imager/data_tar/2023-06-02\n",
      "2772399 images in 2023-06-02\n",
      "Path first image: ../Project003a_Plankton_imager/data_tar/2023-06-02/untarred_0350/RawImages/pia6.2023-06-02.0350+N00017833.tif\n",
      "Path last image: ../Project003a_Plankton_imager/data_tar/2023-06-02/untarred_0820/RawImages/pia6.2023-06-02.0820+N00097332.tif\n"
     ]
    },
    {
     "data": {
      "text/html": [
       "\n",
       "<style>\n",
       "    /* Turns off some styling */\n",
       "    progress {\n",
       "        /* gets rid of default border in Firefox and Opera. */\n",
       "        border: none;\n",
       "        /* Needs to be in here for Safari polyfill so background images work as expected. */\n",
       "        background-size: auto;\n",
       "    }\n",
       "    progress:not([value]), progress:not([value])::-webkit-progress-bar {\n",
       "        background: repeating-linear-gradient(45deg, #7e7e7e, #7e7e7e 10px, #5c5c5c 10px, #5c5c5c 20px);\n",
       "    }\n",
       "    .progress-bar-interrupted, .progress-bar-interrupted::-webkit-progress-bar {\n",
       "        background: #F44336;\n",
       "    }\n",
       "</style>\n"
      ],
      "text/plain": [
       "<IPython.core.display.HTML object>"
      ]
     },
     "metadata": {},
     "output_type": "display_data"
    },
    {
     "data": {
      "text/html": [],
      "text/plain": [
       "<IPython.core.display.HTML object>"
      ]
     },
     "metadata": {},
     "output_type": "display_data"
    },
    {
     "name": "stdout",
     "output_type": "stream",
     "text": [
      "Made preds\n",
      "Created df\n",
      "Added preds to df\n",
      "Finished processing: ../Project003a_Plankton_imager/data_tar/2023-06-02\n",
      "=================================================\n",
      "Started processing: ../Project003a_Plankton_imager/data_tar/2023-06-09\n",
      "7670009 images in 2023-06-09\n",
      "Path first image: ../Project003a_Plankton_imager/data_tar/2023-06-09/untarred_0000/Background.tif\n",
      "Path last image: ../Project003a_Plankton_imager/data_tar/2023-06-09/untarred_1240/RawImages/pia6.2023-06-09.1240+N00070044.tif\n"
     ]
    },
    {
     "data": {
      "text/html": [
       "\n",
       "<style>\n",
       "    /* Turns off some styling */\n",
       "    progress {\n",
       "        /* gets rid of default border in Firefox and Opera. */\n",
       "        border: none;\n",
       "        /* Needs to be in here for Safari polyfill so background images work as expected. */\n",
       "        background-size: auto;\n",
       "    }\n",
       "    progress:not([value]), progress:not([value])::-webkit-progress-bar {\n",
       "        background: repeating-linear-gradient(45deg, #7e7e7e, #7e7e7e 10px, #5c5c5c 10px, #5c5c5c 20px);\n",
       "    }\n",
       "    .progress-bar-interrupted, .progress-bar-interrupted::-webkit-progress-bar {\n",
       "        background: #F44336;\n",
       "    }\n",
       "</style>\n"
      ],
      "text/plain": [
       "<IPython.core.display.HTML object>"
      ]
     },
     "metadata": {},
     "output_type": "display_data"
    },
    {
     "data": {
      "text/html": [],
      "text/plain": [
       "<IPython.core.display.HTML object>"
      ]
     },
     "metadata": {},
     "output_type": "display_data"
    },
    {
     "name": "stdout",
     "output_type": "stream",
     "text": [
      "Made preds\n",
      "Created df\n",
      "Added preds to df\n",
      "Finished processing: ../Project003a_Plankton_imager/data_tar/2023-06-09\n",
      "=================================================\n",
      "Started processing: ../Project003a_Plankton_imager/data_tar/2023-06-07\n",
      "8133503 images in 2023-06-07\n",
      "Path first image: ../Project003a_Plankton_imager/data_tar/2023-06-07/untarred_0344/RawImages/pia6.2023-06-07.0344+N00005476.tif\n",
      "Path last image: ../Project003a_Plankton_imager/data_tar/2023-06-07/untarred_1950/RawImages/pia6.2023-06-07.1950+N00001047.tif\n"
     ]
    },
    {
     "data": {
      "text/html": [
       "\n",
       "<style>\n",
       "    /* Turns off some styling */\n",
       "    progress {\n",
       "        /* gets rid of default border in Firefox and Opera. */\n",
       "        border: none;\n",
       "        /* Needs to be in here for Safari polyfill so background images work as expected. */\n",
       "        background-size: auto;\n",
       "    }\n",
       "    progress:not([value]), progress:not([value])::-webkit-progress-bar {\n",
       "        background: repeating-linear-gradient(45deg, #7e7e7e, #7e7e7e 10px, #5c5c5c 10px, #5c5c5c 20px);\n",
       "    }\n",
       "    .progress-bar-interrupted, .progress-bar-interrupted::-webkit-progress-bar {\n",
       "        background: #F44336;\n",
       "    }\n",
       "</style>\n"
      ],
      "text/plain": [
       "<IPython.core.display.HTML object>"
      ]
     },
     "metadata": {},
     "output_type": "display_data"
    },
    {
     "data": {
      "text/html": [],
      "text/plain": [
       "<IPython.core.display.HTML object>"
      ]
     },
     "metadata": {},
     "output_type": "display_data"
    },
    {
     "name": "stdout",
     "output_type": "stream",
     "text": [
      "Made preds\n",
      "Created df\n",
      "Added preds to df\n",
      "Finished processing: ../Project003a_Plankton_imager/data_tar/2023-06-07\n",
      "=================================================\n",
      "Started processing: ../Project003a_Plankton_imager/data_tar/2023-05-30\n",
      "3715874 images in 2023-05-30\n",
      "Path first image: ../Project003a_Plankton_imager/data_tar/2023-05-30/untarred_1203/RawImages/pia6.2023-05-30.1203+N00024166.tif\n",
      "Path last image: ../Project003a_Plankton_imager/data_tar/2023-05-30/untarred_1830/RawImages/pia6.2023-05-30.1830+N00071999.tif\n"
     ]
    },
    {
     "data": {
      "text/html": [
       "\n",
       "<style>\n",
       "    /* Turns off some styling */\n",
       "    progress {\n",
       "        /* gets rid of default border in Firefox and Opera. */\n",
       "        border: none;\n",
       "        /* Needs to be in here for Safari polyfill so background images work as expected. */\n",
       "        background-size: auto;\n",
       "    }\n",
       "    progress:not([value]), progress:not([value])::-webkit-progress-bar {\n",
       "        background: repeating-linear-gradient(45deg, #7e7e7e, #7e7e7e 10px, #5c5c5c 10px, #5c5c5c 20px);\n",
       "    }\n",
       "    .progress-bar-interrupted, .progress-bar-interrupted::-webkit-progress-bar {\n",
       "        background: #F44336;\n",
       "    }\n",
       "</style>\n"
      ],
      "text/plain": [
       "<IPython.core.display.HTML object>"
      ]
     },
     "metadata": {},
     "output_type": "display_data"
    },
    {
     "data": {
      "text/html": [],
      "text/plain": [
       "<IPython.core.display.HTML object>"
      ]
     },
     "metadata": {},
     "output_type": "display_data"
    },
    {
     "name": "stdout",
     "output_type": "stream",
     "text": [
      "Made preds\n",
      "Created df\n",
      "Added preds to df\n",
      "Finished processing: ../Project003a_Plankton_imager/data_tar/2023-05-30\n",
      "=================================================\n",
      "Started processing: ../Project003a_Plankton_imager/data_tar/2023-06-15\n",
      "7924400 images in 2023-06-15\n",
      "Path first image: ../Project003a_Plankton_imager/data_tar/2023-06-15/untarred_0350/RawImages/pia6.2023-06-15.0350+N00009198.tif\n",
      "Path last image: ../Project003a_Plankton_imager/data_tar/2023-06-15/untarred_1700/RawImages/pia6.2023-06-15.1700+N00033832.tif\n"
     ]
    },
    {
     "data": {
      "text/html": [
       "\n",
       "<style>\n",
       "    /* Turns off some styling */\n",
       "    progress {\n",
       "        /* gets rid of default border in Firefox and Opera. */\n",
       "        border: none;\n",
       "        /* Needs to be in here for Safari polyfill so background images work as expected. */\n",
       "        background-size: auto;\n",
       "    }\n",
       "    progress:not([value]), progress:not([value])::-webkit-progress-bar {\n",
       "        background: repeating-linear-gradient(45deg, #7e7e7e, #7e7e7e 10px, #5c5c5c 10px, #5c5c5c 20px);\n",
       "    }\n",
       "    .progress-bar-interrupted, .progress-bar-interrupted::-webkit-progress-bar {\n",
       "        background: #F44336;\n",
       "    }\n",
       "</style>\n"
      ],
      "text/plain": [
       "<IPython.core.display.HTML object>"
      ]
     },
     "metadata": {},
     "output_type": "display_data"
    },
    {
     "data": {
      "text/html": [],
      "text/plain": [
       "<IPython.core.display.HTML object>"
      ]
     },
     "metadata": {},
     "output_type": "display_data"
    },
    {
     "name": "stdout",
     "output_type": "stream",
     "text": [
      "Made preds\n",
      "Created df\n",
      "Added preds to df\n",
      "Finished processing: ../Project003a_Plankton_imager/data_tar/2023-06-15\n",
      "=================================================\n",
      "Started processing: ../Project003a_Plankton_imager/data_tar/2023-06-01\n",
      "8581369 images in 2023-06-01\n",
      "Path first image: ../Project003a_Plankton_imager/data_tar/2023-06-01/untarred_0406/RawImages/pia6.2023-06-01.0406+N00019335.tif\n",
      "Path last image: ../Project003a_Plankton_imager/data_tar/2023-06-01/untarred_1820/RawImages/pia6.2023-06-01.1820+N00064332.tif\n"
     ]
    },
    {
     "data": {
      "text/html": [
       "\n",
       "<style>\n",
       "    /* Turns off some styling */\n",
       "    progress {\n",
       "        /* gets rid of default border in Firefox and Opera. */\n",
       "        border: none;\n",
       "        /* Needs to be in here for Safari polyfill so background images work as expected. */\n",
       "        background-size: auto;\n",
       "    }\n",
       "    progress:not([value]), progress:not([value])::-webkit-progress-bar {\n",
       "        background: repeating-linear-gradient(45deg, #7e7e7e, #7e7e7e 10px, #5c5c5c 10px, #5c5c5c 20px);\n",
       "    }\n",
       "    .progress-bar-interrupted, .progress-bar-interrupted::-webkit-progress-bar {\n",
       "        background: #F44336;\n",
       "    }\n",
       "</style>\n"
      ],
      "text/plain": [
       "<IPython.core.display.HTML object>"
      ]
     },
     "metadata": {},
     "output_type": "display_data"
    },
    {
     "data": {
      "text/html": [],
      "text/plain": [
       "<IPython.core.display.HTML object>"
      ]
     },
     "metadata": {},
     "output_type": "display_data"
    },
    {
     "name": "stdout",
     "output_type": "stream",
     "text": [
      "Made preds\n",
      "Created df\n",
      "Added preds to df\n",
      "Finished processing: ../Project003a_Plankton_imager/data_tar/2023-06-01\n",
      "=================================================\n",
      "Started processing: ../Project003a_Plankton_imager/data_tar/2023-06-14\n",
      "7247883 images in 2023-06-14\n",
      "Path first image: ../Project003a_Plankton_imager/data_tar/2023-06-14/untarred_0354/RawImages/pia6.2023-06-14.0354+N00012396.tif\n",
      "Path last image: ../Project003a_Plankton_imager/data_tar/2023-06-14/untarred_1600/RawImages/pia6.2023-06-14.1600+N00001665.tif\n"
     ]
    },
    {
     "data": {
      "text/html": [
       "\n",
       "<style>\n",
       "    /* Turns off some styling */\n",
       "    progress {\n",
       "        /* gets rid of default border in Firefox and Opera. */\n",
       "        border: none;\n",
       "        /* Needs to be in here for Safari polyfill so background images work as expected. */\n",
       "        background-size: auto;\n",
       "    }\n",
       "    progress:not([value]), progress:not([value])::-webkit-progress-bar {\n",
       "        background: repeating-linear-gradient(45deg, #7e7e7e, #7e7e7e 10px, #5c5c5c 10px, #5c5c5c 20px);\n",
       "    }\n",
       "    .progress-bar-interrupted, .progress-bar-interrupted::-webkit-progress-bar {\n",
       "        background: #F44336;\n",
       "    }\n",
       "</style>\n"
      ],
      "text/plain": [
       "<IPython.core.display.HTML object>"
      ]
     },
     "metadata": {},
     "output_type": "display_data"
    },
    {
     "data": {
      "text/html": [],
      "text/plain": [
       "<IPython.core.display.HTML object>"
      ]
     },
     "metadata": {},
     "output_type": "display_data"
    },
    {
     "name": "stdout",
     "output_type": "stream",
     "text": [
      "Made preds\n",
      "Created df\n",
      "Added preds to df\n",
      "Finished processing: ../Project003a_Plankton_imager/data_tar/2023-06-14\n",
      "=================================================\n",
      "CPU times: user 13h 30min 7s, sys: 1h 27min 30s, total: 14h 57min 37s\n",
      "Wall time: 14h 13s\n"
     ]
    }
   ],
   "source": [
    "%%time\n",
    "\n",
    "# Loop over all subdirectories in the parent directory\n",
    "for subdir in os.listdir(PathImgs):\n",
    "    subdir_path = os.path.join(PathImgs, subdir)\n",
    "    \n",
    "    # Check if it's a directory\n",
    "    if os.path.isdir(subdir_path):\n",
    "        print(f\"Started processing: {subdir_path}\")\n",
    "\n",
    "        # Get images to predict\n",
    "        imgs = get_image_files(subdir_path)\n",
    "        imgs.sort()\n",
    "        \n",
    "        # Check if the imgs list is empty\n",
    "        if len(imgs) == 0:\n",
    "            print(f\"No images found in {subdir_path}\")\n",
    "            print(\"=================================================\")\n",
    "            continue  # Skip to the next directory\n",
    "        \n",
    "        print(f\"{len(imgs)} images in {subdir}\")\n",
    "        print('Path first image: ' + str(imgs[0]))\n",
    "        print('Path last image: ' + str(imgs[-1]))\n",
    "        \n",
    "        # Create image batch for predicting\n",
    "        dl = learn.dls.test_dl(imgs)\n",
    "\n",
    "        # Get predictions for image batch\n",
    "        preds, ignored1, label_numeric = learn.get_preds(dl=dl, with_decoded=True)\n",
    "        print(\"Made preds\")\n",
    "        \n",
    "        # Create table (i.e. dataframe) with predictions\n",
    "        testdf = pd.DataFrame()  # creates empty table\n",
    "        testdf['id'] = imgs.items  # adds filenames & paths to table\n",
    "        testdf['label'] = label_numeric  # adds predictions to table\n",
    "        print(\"Created df\")\n",
    "\n",
    "        # Adds prediction (confidence) for every class\n",
    "        for i in range(len(preds[0])):\n",
    "            testdf[i] = preds.numpy()[:, i]\n",
    "        print(\"Added preds to df\")\n",
    "            \n",
    "        # Export table to .csv file for downstream applications\n",
    "        testdf.to_csv(subdir+'_Preds_v01c.csv', index=False, float_format='%.9f')\n",
    "        print(f\"Finished processing: {subdir_path}\")\n",
    "        print(\"=================================================\")\n"
   ]
  },
  {
   "cell_type": "code",
   "execution_count": 11,
   "id": "b1737972",
   "metadata": {},
   "outputs": [
    {
     "data": {
      "text/plain": [
       "['amphioxus_larva', 'artefact_cleaning_fibre', 'artefact_long_line', 'balanoid_cypris', 'balanoid_nauplius', 'bryozoa_cyphonautes', 'bubbles', 'chaetognath', 'cladocera_evadne', 'cladocera_podon_pleopis', 'cnidaria-tentacle', 'cnidaria_ephyrae', 'cnidaria_hydromedusae', 'cnidaria_hydropolyp', 'copepoda', 'copepoda_monstrilloidae', 'copepoda_nauplii', 'crustacea_amphipoda', 'crustacea_caprella', 'crustacea_exuvium', 'crustacea_megalopa', 'crustacea_mysida', 'crustacea_zoea_shrimp', 'crutacea_zoea_crab', 'ctenophora', 'cumacea', 'detritus', 'diatom_loop', 'diatom_odontella', 'diatom_other', 'diatom_setae', 'diatom_solitary_centric', 'diatom_straight', 'dinoflagellate_Tripos', 'dinoflagellate_noctiluca_fragment', 'dinoflagellate_noctiluca_intact', 'dinoflagellate_pyrocystis', 'echinoderm_bipinnaria', 'echinoderm_branchiolaria', 'echinoderm_echinopluteus_type_1', 'echinoderm_echinopluteus_type_2', 'echinoderm_ophiopluteus', 'echinoderm_stars_asteridae', 'echinoderm_stars_echino', 'echinoderm_stars_ophio', 'fish_eggs', 'fish_larvae', 'fytoplankton_phaeocystis', 'hemichordata_enteropneusta_tornaria', 'larvacea_Friitilaria_complete', 'larvacea_Oikopleura_complete', 'larvacea_body', 'larvacea_tail_only', 'mollusca', 'nemertea_pilidium', 'phoronida', 'platyhelminthes_microstomum', 'platyhelminthes_trematoda_cercariae', 'polychaete_Tomopteris', 'polychaete_aulophore', 'polychaete_empty_tube', 'polychaete_magelona', 'polychaete_mitraria', 'polychaete_nectochaete', 'polychaete_nectosoma', 'polychaete_trochophore']"
      ]
     },
     "execution_count": 11,
     "metadata": {},
     "output_type": "execute_result"
    }
   ],
   "source": [
    "learn.dls.vocab"
   ]
  },
  {
   "cell_type": "code",
   "execution_count": null,
   "id": "3d39e526",
   "metadata": {},
   "outputs": [],
   "source": []
  },
  {
   "cell_type": "code",
   "execution_count": null,
   "id": "b02ce054",
   "metadata": {},
   "outputs": [],
   "source": []
  },
  {
   "cell_type": "code",
   "execution_count": null,
   "id": "0e4b6174",
   "metadata": {},
   "outputs": [],
   "source": [
    "# Some CUDA/GPU tests\n",
    "\n",
    "def check_all_cuda_devices():\n",
    "    device_count = torch.cuda.device_count()\n",
    "    for i in range(device_count):\n",
    "        print('>>>> torch.cuda.device({})'.format(i))\n",
    "        result = torch.cuda.device(i)\n",
    "        print(result, '\\n')\n",
    "\n",
    "        print('>>>> torch.cuda.get_device_name({})'.format(i))\n",
    "        result = torch.cuda.get_device_name(i)\n",
    "        print(result, '\\n')\n",
    "\n",
    "\n",
    "def check_cuda():\n",
    "    print('>>>> torch.cuda.is_available()')\n",
    "    result = torch.cuda.is_available()\n",
    "    print(result, '\\n')\n",
    "\n",
    "    print('>>>> torch.cuda.device_count()')\n",
    "    result = torch.cuda.device_count()\n",
    "    print(result, '\\n')\n",
    "\n",
    "    print('>>>> torch.cuda.current_device()')\n",
    "    result = torch.cuda.current_device()\n",
    "    print(result, '\\n')\n",
    "\n",
    "    print('>>>> torch.cuda.device(0)')\n",
    "    result = torch.cuda.device(0)\n",
    "    print(result, '\\n')\n",
    "\n",
    "    print('>>>> torch.cuda.get_device_name(0)')\n",
    "    result = torch.cuda.get_device_name(0)\n",
    "    print(result, '\\n')\n",
    "\n",
    "    check_all_cuda_devices()\n",
    "\n",
    "\n",
    "def check_cuda_ops():\n",
    "    print('>>>> torch.zeros(2, 3)')\n",
    "    zeros = torch.zeros(2, 3)\n",
    "    print(zeros, '\\n')\n",
    "\n",
    "    print('>>>> torch.zeros(2, 3).cuda()')\n",
    "    cuda_zero = torch.zeros(2, 3).cuda()\n",
    "    print(cuda_zero, '\\n')\n",
    "\n",
    "    print('>>>> torch.tensor([[1, 2, 3], [4, 5, 6]])')\n",
    "    tensor_a = torch.tensor([[1, 2, 3], [4, 5, 6]]).cuda()\n",
    "    print(tensor_a, '\\n')\n",
    "\n",
    "    print('>>>> tensor_a + cuda_zero')\n",
    "    sum = tensor_a + cuda_zero\n",
    "    print(sum, '\\n')\n",
    "\n",
    "    print('>>>> tensor_a * cuda_twos')\n",
    "    tensor_a = tensor_a.to(torch.float)\n",
    "    cuda_zero = cuda_zero.to(torch.float)\n",
    "    cuda_twos = (cuda_zero + 1.0) * 2.0\n",
    "    product = tensor_a * cuda_twos\n",
    "    print(product, '\\n')\n",
    "\n",
    "    print('>>>> torch.matmul(tensor_a, cuda_twos.T)')\n",
    "    mat_mul = torch.matmul(tensor_a, cuda_twos.T)\n",
    "    print(mat_mul, '\\n')\n",
    "\n",
    "try:\n",
    "    check_all_cuda_devices()\n",
    "except Exception as e:\n",
    "    print('get_version() failed, exception message below:')\n",
    "    print(e)\n",
    "\n",
    "try:\n",
    "    check_cuda()\n",
    "except Exception as e:\n",
    "    print('check_cuda() failed, exception message below:')\n",
    "    print(e)\n",
    "\n",
    "try:\n",
    "    check_cuda_ops()\n",
    "except Exception as e:\n",
    "    print('check_cuda_ops() failed, exception message below:')\n",
    "    print(e)"
   ]
  },
  {
   "cell_type": "code",
   "execution_count": null,
   "id": "6a1268d7",
   "metadata": {},
   "outputs": [],
   "source": []
  }
 ],
 "metadata": {
  "kernelspec": {
   "display_name": "Jupy_Env",
   "language": "python",
   "name": "jupy_env"
  },
  "language_info": {
   "codemirror_mode": {
    "name": "ipython",
    "version": 3
   },
   "file_extension": ".py",
   "mimetype": "text/x-python",
   "name": "python",
   "nbconvert_exporter": "python",
   "pygments_lexer": "ipython3",
   "version": "3.10.12"
  }
 },
 "nbformat": 4,
 "nbformat_minor": 5
}
